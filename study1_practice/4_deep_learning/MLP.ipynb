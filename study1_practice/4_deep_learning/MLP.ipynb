{
 "cells": [
  {
   "cell_type": "markdown",
   "metadata": {},
   "source": [
    "## 2. Multi Layer Perceptron"
   ]
  },
  {
   "cell_type": "markdown",
   "metadata": {},
   "source": [
    " ### 1) import modules"
   ]
  },
  {
   "cell_type": "code",
   "execution_count": 1,
   "metadata": {},
   "outputs": [],
   "source": [
    "import tensorflow as tf\n",
    "import numpy as np\n",
    "from tensorflow.examples.tutorials.mnist import input_data\n",
    "from modules import multi_layer_perceptron"
   ]
  },
  {
   "cell_type": "markdown",
   "metadata": {},
   "source": [
    " ### 2) define placeholder for INPUT & LABELS"
   ]
  },
  {
   "cell_type": "code",
   "execution_count": 2,
   "metadata": {},
   "outputs": [],
   "source": [
    "INPUT = tf.placeholder(tf.float32, [None, 28*28])\n",
    "LABELS = tf.placeholder(tf.int32, [None])"
   ]
  },
  {
   "cell_type": "markdown",
   "metadata": {},
   "source": [
    "### 3) define mlp model with multi_layer_perceptron function\n",
    "\n",
    "<img src=\"./images/mlp.png\" alt=\"slp model\" width=1000 align=\"left\"/>"
   ]
  },
  {
   "cell_type": "code",
   "execution_count": 3,
   "metadata": {},
   "outputs": [],
   "source": [
    "# def multi_layer_perceptron(input=None, output_dim=None):\n",
    "    \n",
    "#     input_dim = input.shape[1].value\n",
    "    \n",
    "#     # your code start here\n",
    "    \n",
    "        \n",
    "#     return output"
   ]
  },
  {
   "cell_type": "code",
   "execution_count": 4,
   "metadata": {},
   "outputs": [],
   "source": [
    "prediction = multi_layer_perceptron(INPUT, output_dim=10)"
   ]
  },
  {
   "cell_type": "code",
   "execution_count": 5,
   "metadata": {},
   "outputs": [],
   "source": [
    "cross_entropy = tf.nn.sparse_softmax_cross_entropy_with_logits(\n",
    "    labels=LABELS, logits=prediction\n",
    ")\n",
    "cost = tf.reduce_mean(cross_entropy)\n",
    "optimizer = tf.train.GradientDescentOptimizer(0.01).minimize(cost)"
   ]
  },
  {
   "cell_type": "markdown",
   "metadata": {},
   "source": [
    "### 4) load data"
   ]
  },
  {
   "cell_type": "code",
   "execution_count": 6,
   "metadata": {},
   "outputs": [
    {
     "name": "stdout",
     "output_type": "stream",
     "text": [
      "WARNING:tensorflow:From <ipython-input-6-f659c5e1ce47>:1: read_data_sets (from tensorflow.contrib.learn.python.learn.datasets.mnist) is deprecated and will be removed in a future version.\n",
      "Instructions for updating:\n",
      "Please use alternatives such as official/mnist/dataset.py from tensorflow/models.\n",
      "WARNING:tensorflow:From /home/ray/multicamp/lib/python3.6/site-packages/tensorflow/contrib/learn/python/learn/datasets/mnist.py:260: maybe_download (from tensorflow.contrib.learn.python.learn.datasets.base) is deprecated and will be removed in a future version.\n",
      "Instructions for updating:\n",
      "Please write your own downloading logic.\n",
      "WARNING:tensorflow:From /home/ray/multicamp/lib/python3.6/site-packages/tensorflow/contrib/learn/python/learn/datasets/mnist.py:262: extract_images (from tensorflow.contrib.learn.python.learn.datasets.mnist) is deprecated and will be removed in a future version.\n",
      "Instructions for updating:\n",
      "Please use tf.data to implement this functionality.\n",
      "Extracting ./data/train-images-idx3-ubyte.gz\n",
      "WARNING:tensorflow:From /home/ray/multicamp/lib/python3.6/site-packages/tensorflow/contrib/learn/python/learn/datasets/mnist.py:267: extract_labels (from tensorflow.contrib.learn.python.learn.datasets.mnist) is deprecated and will be removed in a future version.\n",
      "Instructions for updating:\n",
      "Please use tf.data to implement this functionality.\n",
      "Extracting ./data/train-labels-idx1-ubyte.gz\n",
      "WARNING:tensorflow:From /home/ray/multicamp/lib/python3.6/site-packages/tensorflow/contrib/learn/python/learn/datasets/mnist.py:110: dense_to_one_hot (from tensorflow.contrib.learn.python.learn.datasets.mnist) is deprecated and will be removed in a future version.\n",
      "Instructions for updating:\n",
      "Please use tf.one_hot on tensors.\n",
      "Extracting ./data/t10k-images-idx3-ubyte.gz\n",
      "Extracting ./data/t10k-labels-idx1-ubyte.gz\n",
      "WARNING:tensorflow:From /home/ray/multicamp/lib/python3.6/site-packages/tensorflow/contrib/learn/python/learn/datasets/mnist.py:290: DataSet.__init__ (from tensorflow.contrib.learn.python.learn.datasets.mnist) is deprecated and will be removed in a future version.\n",
      "Instructions for updating:\n",
      "Please use alternatives such as official/mnist/dataset.py from tensorflow/models.\n"
     ]
    }
   ],
   "source": [
    "mnist = input_data.read_data_sets(\"./data/\", one_hot=True)"
   ]
  },
  {
   "cell_type": "markdown",
   "metadata": {},
   "source": [
    "### 5) start training\n",
    "   #### - set training parameters : batch size, learning rate, total loop"
   ]
  },
  {
   "cell_type": "code",
   "execution_count": 7,
   "metadata": {},
   "outputs": [],
   "source": [
    "BATCH_SIZE = 100\n",
    "LEARNING_RATE = 0.01\n",
    "TOTAL_LOOP = 10000"
   ]
  },
  {
   "cell_type": "markdown",
   "metadata": {},
   "source": [
    " - arrA = [[0,0,0,0,1],[0,1,0,0,0]]\n",
    " - np.where(arrA) => ([0,1], [4,1])\n",
    " - ref) https://docs.scipy.org/doc/numpy-1.15.1/reference/generated/numpy.where.html?highlight=numpy%20where#numpy.where"
   ]
  },
  {
   "cell_type": "code",
   "execution_count": 8,
   "metadata": {},
   "outputs": [
    {
     "name": "stdout",
     "output_type": "stream",
     "text": [
      "loop: 00500, loss: 0.62088597\n",
      "loop: 01000, loss: 0.41896534\n",
      "loop: 01500, loss: 0.4378063\n",
      "loop: 02000, loss: 0.28321517\n",
      "loop: 02500, loss: 0.51313496\n",
      "loop: 03000, loss: 0.2521136\n",
      "loop: 03500, loss: 0.21186419\n",
      "loop: 04000, loss: 0.23913167\n",
      "loop: 04500, loss: 0.4553431\n",
      "loop: 05000, loss: 0.36936966\n",
      "loop: 05500, loss: 0.19592823\n",
      "loop: 06000, loss: 0.20028462\n",
      "loop: 06500, loss: 0.2702041\n",
      "loop: 07000, loss: 0.35531288\n",
      "loop: 07500, loss: 0.3097142\n",
      "loop: 08000, loss: 0.28895724\n",
      "loop: 08500, loss: 0.4010969\n",
      "loop: 09000, loss: 0.289224\n",
      "loop: 09500, loss: 0.43055683\n",
      "loop: 10000, loss: 0.27536133\n",
      "Training Finished! (loss : 0.27536133)\n"
     ]
    }
   ],
   "source": [
    "sess = tf.Session()\n",
    "sess.run(tf.global_variables_initializer())\n",
    "\n",
    "for loop in range(1, TOTAL_LOOP + 1):\n",
    "    \n",
    "    train_images, train_labels = mnist.train \\\n",
    "                                      .next_batch(BATCH_SIZE)\n",
    "    train_labels = np.where(train_labels)[1]\n",
    "        \n",
    "    _, loss = sess.run(\n",
    "        [optimizer, cost],\n",
    "        feed_dict={\n",
    "            INPUT: train_images, \n",
    "            LABELS: train_labels\n",
    "        }\n",
    "    )\n",
    "    \n",
    "    if loop % 500 == 0 or loop == 0:\n",
    "        print(\"loop: %05d,\"%(loop), \"loss:\", loss)\n",
    "\n",
    "print(\"Training Finished! (loss : \" + str(loss) + \")\")"
   ]
  },
  {
   "cell_type": "markdown",
   "metadata": {},
   "source": [
    "### 6) test performance\n",
    "\n",
    " - test image shape: (100, 784)\n",
    " - test label shape: (100, 10) \n",
    " \n",
    "\n",
    " - arrB = [[0, 1, 2],[3, 4, 5]]\n",
    " - np.argmax(arrB) => 5\n",
    " - np.argmax(arrB, axis=0) => [1, 1, 1]\n",
    " - np.argmax(arrB, axis=1) => [2, 2]\n",
    " - ref) https://docs.scipy.org/doc/numpy-1.15.1/reference/generated/numpy.argmax.html\n",
    " "
   ]
  },
  {
   "cell_type": "code",
   "execution_count": 9,
   "metadata": {},
   "outputs": [
    {
     "name": "stdout",
     "output_type": "stream",
     "text": [
      "Accuracy: {1: 97, 2: 97, 3: 91, 4: 89, 5: 95}\n",
      "Total mean Accuracy: 93.8\n"
     ]
    }
   ],
   "source": [
    "TEST_SAMPLE_SIZE = 100\n",
    "TEST_NUMBER = 5\n",
    "accuracy_save = dict()\n",
    "\n",
    "for number in range(1, 1+TEST_NUMBER):\n",
    "    \n",
    "    test_images, test_labels = mnist.test \\\n",
    "                                    .next_batch(TEST_SAMPLE_SIZE)\n",
    "    pred_result = sess.run(\n",
    "        prediction, \n",
    "        feed_dict={INPUTtest performance: test_images}\n",
    "    )\n",
    "\n",
    "    pred_number = np.argmax(pred_result, axis=1) # 100x1\n",
    "    label_number = np.where(test_labels)[1] #100x1\n",
    "    \n",
    "    accuracy_save[number] = np.sum(pred_number == label_number)\n",
    "    \n",
    "print(\"Accuracy:\", accuracy_save)\n",
    "print(\"Total mean Accuracy:\", \n",
    "      np.mean(list(accuracy_save.values()))\n",
    ")\n",
    "      "
   ]
  },
  {
   "cell_type": "code",
   "execution_count": null,
   "metadata": {},
   "outputs": [],
   "source": []
  }
 ],
 "metadata": {
  "kernelspec": {
   "display_name": "Python 3",
   "language": "python",
   "name": "python3"
  },
  "language_info": {
   "codemirror_mode": {
    "name": "ipython",
    "version": 3
   },
   "file_extension": ".py",
   "mimetype": "text/x-python",
   "name": "python",
   "nbconvert_exporter": "python",
   "pygments_lexer": "ipython3",
   "version": "3.5.2"
  }
 },
 "nbformat": 4,
 "nbformat_minor": 2
}
