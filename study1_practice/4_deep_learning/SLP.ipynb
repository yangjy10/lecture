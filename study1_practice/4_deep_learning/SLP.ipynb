{
 "cells": [
  {
   "cell_type": "markdown",
   "metadata": {},
   "source": [
    "## 1. Single Layer Perceptron"
   ]
  },
  {
   "cell_type": "markdown",
   "metadata": {},
   "source": [
    " ### 1) import modules"
   ]
  },
  {
   "cell_type": "code",
   "execution_count": 1,
   "metadata": {},
   "outputs": [],
   "source": [
    "import tensorflow as tf\n",
    "import numpy as np\n",
    "from tensorflow.examples.tutorials.mnist import input_data\n",
    "from modules import single_layer_perceptron"
   ]
  },
  {
   "cell_type": "markdown",
   "metadata": {},
   "source": [
    " ### 2) define placeholder for INPUT & LABELS"
   ]
  },
  {
   "cell_type": "code",
   "execution_count": 2,
   "metadata": {},
   "outputs": [],
   "source": [
    "INPUT = tf.placeholder(tf.float32, [None, 28*28]) # 훈련용 데이터 주입 공간 확보 1 x 784,  784디멘젼\n",
    "LABELS = tf.placeholder(tf.int32, [None]) # 레이블 차원 없음, shape 동적으로 정의, 배치사이즈 None으로 정의 100x1 배치사이즈 100인 경우"
   ]
  },
  {
   "cell_type": "markdown",
   "metadata": {},
   "source": [
    "### 3) define slp model with single_layer_percentorn function\n",
    "\n",
    "<img src=\"./images/slp_r.png\" alt=\"slp model\" width=1000 align=\"left\"/>"
   ]
  },
  {
   "cell_type": "code",
   "execution_count": 3,
   "metadata": {},
   "outputs": [],
   "source": [
    "prediction = single_layer_perceptron(INPUT, output_dim=10) # 여기 모델만 바뀜"
   ]
  },
  {
   "cell_type": "code",
   "execution_count": 4,
   "metadata": {},
   "outputs": [],
   "source": [
    "cross_entropy = tf.nn.sparse_softmax_cross_entropy_with_logits( # 소프트맥스 처리 해줌\n",
    "    labels=LABELS, logits=prediction\n",
    ")\n",
    "cost = tf.reduce_mean(cross_entropy) # 차이 계산해서 평균 냄\n",
    "optimizer = tf.train.GradientDescentOptimizer(0.01).minimize(cost) # 텐서플로우 제공 기본 함수"
   ]
  },
  {
   "cell_type": "markdown",
   "metadata": {},
   "source": [
    "### 4) load data"
   ]
  },
  {
   "cell_type": "code",
   "execution_count": 5,
   "metadata": {
    "scrolled": true
   },
   "outputs": [
    {
     "name": "stdout",
     "output_type": "stream",
     "text": [
      "WARNING:tensorflow:From <ipython-input-5-f659c5e1ce47>:1: read_data_sets (from tensorflow.contrib.learn.python.learn.datasets.mnist) is deprecated and will be removed in a future version.\n",
      "Instructions for updating:\n",
      "Please use alternatives such as official/mnist/dataset.py from tensorflow/models.\n",
      "WARNING:tensorflow:From /home/ray/multicamp/lib/python3.6/site-packages/tensorflow/contrib/learn/python/learn/datasets/mnist.py:260: maybe_download (from tensorflow.contrib.learn.python.learn.datasets.base) is deprecated and will be removed in a future version.\n",
      "Instructions for updating:\n",
      "Please write your own downloading logic.\n",
      "WARNING:tensorflow:From /home/ray/multicamp/lib/python3.6/site-packages/tensorflow/contrib/learn/python/learn/datasets/base.py:252: _internal_retry.<locals>.wrap.<locals>.wrapped_fn (from tensorflow.contrib.learn.python.learn.datasets.base) is deprecated and will be removed in a future version.\n",
      "Instructions for updating:\n",
      "Please use urllib or similar directly.\n",
      "Successfully downloaded train-images-idx3-ubyte.gz 9912422 bytes.\n",
      "WARNING:tensorflow:From /home/ray/multicamp/lib/python3.6/site-packages/tensorflow/contrib/learn/python/learn/datasets/mnist.py:262: extract_images (from tensorflow.contrib.learn.python.learn.datasets.mnist) is deprecated and will be removed in a future version.\n",
      "Instructions for updating:\n",
      "Please use tf.data to implement this functionality.\n",
      "Extracting ./data/train-images-idx3-ubyte.gz\n",
      "Successfully downloaded train-labels-idx1-ubyte.gz 28881 bytes.\n",
      "WARNING:tensorflow:From /home/ray/multicamp/lib/python3.6/site-packages/tensorflow/contrib/learn/python/learn/datasets/mnist.py:267: extract_labels (from tensorflow.contrib.learn.python.learn.datasets.mnist) is deprecated and will be removed in a future version.\n",
      "Instructions for updating:\n",
      "Please use tf.data to implement this functionality.\n",
      "Extracting ./data/train-labels-idx1-ubyte.gz\n",
      "WARNING:tensorflow:From /home/ray/multicamp/lib/python3.6/site-packages/tensorflow/contrib/learn/python/learn/datasets/mnist.py:110: dense_to_one_hot (from tensorflow.contrib.learn.python.learn.datasets.mnist) is deprecated and will be removed in a future version.\n",
      "Instructions for updating:\n",
      "Please use tf.one_hot on tensors.\n",
      "Successfully downloaded t10k-images-idx3-ubyte.gz 1648877 bytes.\n",
      "Extracting ./data/t10k-images-idx3-ubyte.gz\n",
      "Successfully downloaded t10k-labels-idx1-ubyte.gz 4542 bytes.\n",
      "Extracting ./data/t10k-labels-idx1-ubyte.gz\n",
      "WARNING:tensorflow:From /home/ray/multicamp/lib/python3.6/site-packages/tensorflow/contrib/learn/python/learn/datasets/mnist.py:290: DataSet.__init__ (from tensorflow.contrib.learn.python.learn.datasets.mnist) is deprecated and will be removed in a future version.\n",
      "Instructions for updating:\n",
      "Please use alternatives such as official/mnist/dataset.py from tensorflow/models.\n"
     ]
    }
   ],
   "source": [
    "mnist = input_data.read_data_sets(\"./data/\", one_hot=True) # 데이터 받아 옴"
   ]
  },
  {
   "cell_type": "markdown",
   "metadata": {},
   "source": [
    "### 5) start training\n",
    "   #### - set training parameters : batch size, learning rate, total loop"
   ]
  },
  {
   "cell_type": "code",
   "execution_count": 6,
   "metadata": {},
   "outputs": [],
   "source": [
    "BATCH_SIZE = 100\n",
    "LEARNING_RATE = 0.01\n",
    "TOTAL_LOOP = 10000 # 만 번 훈련"
   ]
  },
  {
   "cell_type": "markdown",
   "metadata": {},
   "source": [
    " - arrA = [[0,0,0,0,1],\n",
    " [0,1,0,0,0]]\n",
    " - np.where(arrA) => ([0,1], [4,1]) # true 값 인덱스 반환\n",
    " - ref) https://docs.scipy.org/doc/numpy-1.15.1/reference/generated/numpy.where.html?highlight=numpy%20where#numpy.where"
   ]
  },
  {
   "cell_type": "code",
   "execution_count": 7,
   "metadata": {},
   "outputs": [
    {
     "name": "stdout",
     "output_type": "stream",
     "text": [
      "loop: 00500, loss: 0.802748\n",
      "loop: 01000, loss: 0.5748601\n",
      "loop: 01500, loss: 0.4936064\n",
      "loop: 02000, loss: 0.5051746\n",
      "loop: 02500, loss: 0.44355556\n",
      "loop: 03000, loss: 0.45895016\n",
      "loop: 03500, loss: 0.42888954\n",
      "loop: 04000, loss: 0.31302333\n",
      "loop: 04500, loss: 0.3861348\n",
      "loop: 05000, loss: 0.32526612\n",
      "loop: 05500, loss: 0.3376405\n",
      "loop: 06000, loss: 0.49178123\n",
      "loop: 06500, loss: 0.29699612\n",
      "loop: 07000, loss: 0.3339426\n",
      "loop: 07500, loss: 0.3189332\n",
      "loop: 08000, loss: 0.2768181\n",
      "loop: 08500, loss: 0.36513966\n",
      "loop: 09000, loss: 0.4450225\n",
      "loop: 09500, loss: 0.2547568\n",
      "loop: 10000, loss: 0.2691984\n",
      "Training Finished! (loss : 0.2691984)\n"
     ]
    }
   ],
   "source": [
    "sess = tf.Session()\n",
    "sess.run(tf.global_variables_initializer())\n",
    "\n",
    "for loop in range(1, TOTAL_LOOP + 1):\n",
    "    \n",
    "    train_images, train_labels = mnist.train \\\n",
    "                                      .next_batch(BATCH_SIZE)\n",
    "    train_labels = np.where(train_labels)[1]\n",
    "      #100x10  \n",
    "    _, loss = sess.run(\n",
    "        [optimizer, cost], # 옵티마이져 런 시키면 됨 cost 연결되어 있음\n",
    "        feed_dict={\n",
    "            INPUT: train_images, \n",
    "            LABELS: train_labels\n",
    "        }\n",
    "    )\n",
    "    \n",
    "    if loop % 500 == 0 or loop == 0:  \n",
    "        print(\"loop: %05d,\"%(loop), \"loss:\", loss)  # 디버깅용, 옵티마이저 값 가져올 필요는 없다, loss 줄어드는지 확인 500개 마다 확인\n",
    "\n",
    "print(\"Training Finished! (loss : \" + str(loss) + \")\")"
   ]
  },
  {
   "cell_type": "markdown",
   "metadata": {},
   "source": [
    "### 6) test performance\n",
    "\n",
    " - test image shape: (100, 784)\n",
    " - test label shape: (100, 10) \n",
    " \n",
    "\n",
    " - arrB = [[0, 1, 2],[3, 4, 5]]\n",
    " - np.argmax(arrB) => 5\n",
    " - np.argmax(arrB, axis=0) => [1, 1, 1]  axis=0 행축 비교\n",
    " - np.argmax(arrB, axis=1) => [2, 2] axis=1 컬럼축비교\n",
    " - ref) https://docs.scipy.org/doc/numpy-1.15.1/reference/generated/numpy.argmax.html\n",
    " "
   ]
  },
  {
   "cell_type": "code",
   "execution_count": 8,
   "metadata": {},
   "outputs": [
    {
     "name": "stdout",
     "output_type": "stream",
     "text": [
      "Accuracy: {1: 95, 2: 92, 3: 83, 4: 93, 5: 88}\n",
      "Total mean Accuracy: 90.2\n"
     ]
    }
   ],
   "source": [
    "TEST_SAMPLE_SIZE = 100  # 100개 이미지에 대해 확인\n",
    "TEST_NUMBER = 5\n",
    "accuracy_save = dict()\n",
    "\n",
    "for number in range(1, 1+TEST_NUMBER):\n",
    "    \n",
    "    test_images, test_labels = mnist.test \\\n",
    "                                    .next_batch(TEST_SAMPLE_SIZE)\n",
    "    pred_result = sess.run(\n",
    "        prediction, \n",
    "        feed_dict={INPUT: test_images}\n",
    "    )\n",
    "\n",
    "    pred_number = np.argmax(pred_result, axis=1) # 100x1\n",
    "    label_number = np.where(test_labels)[1] #100x1\n",
    "    \n",
    "    accuracy_save[number] = np.sum(pred_number == label_number)\n",
    "    \n",
    "print(\"Accuracy:\", accuracy_save)\n",
    "print(\"Total mean Accuracy:\", \n",
    "      np.mean(list(accuracy_save.values())) # 평균냄\n",
    ")\n",
    "      "
   ]
  }
 ],
 "metadata": {
  "kernelspec": {
   "display_name": "Python 3",
   "language": "python",
   "name": "python3"
  },
  "language_info": {
   "codemirror_mode": {
    "name": "ipython",
    "version": 3
   },
   "file_extension": ".py",
   "mimetype": "text/x-python",
   "name": "python",
   "nbconvert_exporter": "python",
   "pygments_lexer": "ipython3",
   "version": "3.5.2"
  }
 },
 "nbformat": 4,
 "nbformat_minor": 2
}
