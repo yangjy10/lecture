{
 "cells": [
  {
   "cell_type": "markdown",
   "metadata": {},
   "source": [
    "## 1. 숫자"
   ]
  },
  {
   "cell_type": "markdown",
   "metadata": {},
   "source": [
    " - 기본 연산자 : `+, -, *, /`"
   ]
  },
  {
   "cell_type": "code",
   "execution_count": 1,
   "metadata": {},
   "outputs": [
    {
     "name": "stdout",
     "output_type": "stream",
     "text": [
      "1) 4\n",
      "2) 20\n",
      "3) 5.0\n"
     ]
    }
   ],
   "source": [
    "print('1)', 2+2)\n",
    "print('2)', 50 - 5*6)\n",
    "print('3)', (50 - 5*6) / 4) # always return float type"
   ]
  },
  {
   "cell_type": "markdown",
   "metadata": {},
   "source": [
    " - 거듭제곱(`**`),  몫(`//`),   나머지(`%`)"
   ]
  },
  {
   "cell_type": "code",
   "execution_count": 2,
   "metadata": {},
   "outputs": [
    {
     "name": "stdout",
     "output_type": "stream",
     "text": [
      "1) 25\n",
      "2) 5\n",
      "3) 2\n"
     ]
    }
   ],
   "source": [
    "print('1)', 5 ** 2)\n",
    "print('2)',17 // 3)\n",
    "print('3)',17 % 3)"
   ]
  },
  {
   "cell_type": "markdown",
   "metadata": {},
   "source": [
    "## 2. 문자열"
   ]
  },
  {
   "cell_type": "markdown",
   "metadata": {},
   "source": [
    " - 작은따옴표(`' '`), 큰따옴표(`\" \"`) 사용하여 표현\n",
    " - 따옴표 이스케이핑 `\\` 사용\n",
    " - 여러줄로 확장된 문자열은 삼중따옴표(`\"\"\" \"\"\", ''' '''`)\n",
    " - 문자열은 `+` 연산자로 이어붙이고 `*` 연산자로 반복 가능"
   ]
  },
  {
   "cell_type": "code",
   "execution_count": 3,
   "metadata": {},
   "outputs": [
    {
     "name": "stdout",
     "output_type": "stream",
     "text": [
      "1) spam eggs\n",
      "2) doesn't\n",
      "\n",
      "3) Usage: thingy [OPTIONS]\n",
      "     -h                        Display this usage message\n",
      "     -H hostname  \n",
      "\n",
      "4) unununium\n"
     ]
    }
   ],
   "source": [
    "print('1) spam eggs')\n",
    "print('2) doesn\\'t')\n",
    "print(\"\"\"\n",
    "3) Usage: thingy [OPTIONS]\n",
    "     -h                        Display this usage message\n",
    "     -H hostname  \n",
    "\"\"\")\n",
    "print('4)', 3 * 'un' + 'ium')"
   ]
  },
  {
   "cell_type": "markdown",
   "metadata": {},
   "source": [
    "  - 문자열 인덱싱, 슬라이싱 가능하나 참조만 가능 (불변)\n",
    "  - 인덱스는 음수도 가능하며, 음수일 경우 끝부터 센 위치를 참조\n",
    "  - 슬라이싱은 시작위치를 항상 포함하고 종료위치는 포함하지 않음\n",
    "  - 내장함수 `len`은 문자열의 길이를 돌려줌 \n",
    "      - ex) `len(문자열)`"
   ]
  },
  {
   "cell_type": "code",
   "execution_count": 4,
   "metadata": {},
   "outputs": [
    {
     "name": "stdout",
     "output_type": "stream",
     "text": [
      "1) P , n\n",
      "2) n\n",
      "3) Python\n",
      "4) 6\n"
     ]
    }
   ],
   "source": [
    "word='Python'\n",
    "print('1)', word[0], ',', word[5])\n",
    "# pinrt(word[0]='A')\n",
    "print('2)', word[-1])\n",
    "print('3)', word[0:2] + word[2:])\n",
    "print('4)', len(word)) # len 문자열 길이"
   ]
  },
  {
   "cell_type": "markdown",
   "metadata": {},
   "source": [
    "## 3. 자료구조 : 리스트, 딕셔너리, 튜플,"
   ]
  },
  {
   "cell_type": "markdown",
   "metadata": {},
   "source": [
    "- 다른 값들을 덩어리로 묶는데 사용하는 여러가지 컴파운드 자료형 지원"
   ]
  },
  {
   "cell_type": "markdown",
   "metadata": {},
   "source": [
    "### 3-1. 리스트\n",
    "   - 꺽쇠괄호(`[]`) 사이에 쉼표로 구분된 값들의 목록으로 표현되는 시퀀스(sequence) 자료형, 서로다른 항목 가능 \n",
    "   - 문자열과 같이 숫자로 인덱싱, 슬라이스 연산 및 개별 요소 수정도 가능(가변)\n",
    "   - 이어붙이기 연산도 지원\n",
    "   - 주요 함수(메서드) `append, pop` ref) https://docs.python.org/ko/3/tutorial/datastructures.html"
   ]
  },
  {
   "cell_type": "code",
   "execution_count": 5,
   "metadata": {},
   "outputs": [
    {
     "name": "stdout",
     "output_type": "stream",
     "text": [
      "1) [0, 4, 9, 16, 25]\n",
      "2) [0, 4, 9, 16, 25, 'a', 1]\n",
      "3) [0, 4, 9, 16, 25, '36']\n",
      "4) 1\n"
     ]
    }
   ],
   "source": [
    "squares1 = [1, 4, 9, 16, 25]\n",
    "squares2 = ['a', 1]\n",
    "squares1[0] = 0\n",
    "\n",
    "print('1)', squares1)\n",
    "print('2)', squares1+squares2)\n",
    "\n",
    "squares1.append('36') # 자료 추가\n",
    "\n",
    "print('3)', squares1)\n",
    "print('4)', squares2.pop())"
   ]
  },
  {
   "cell_type": "markdown",
   "metadata": {},
   "source": [
    "### 3-2. 딕셔너리\n",
    "  - 중복되지 않는다는 제약조건을 가진 키:값 쌍의 집합\n",
    "  - 중괄호(`{}`) 안에 쉽료로 분리된 키:값 쌍들의 목록을 넣어 정의\n",
    "  - 키(불변)로 인덱싱 및 인덱싱된 값(가변) 수정 가능\n",
    "  - 주요 함수(메서드) `del, items, keys, values`"
   ]
  },
  {
   "cell_type": "code",
   "execution_count": 6,
   "metadata": {},
   "outputs": [
    {
     "name": "stdout",
     "output_type": "stream",
     "text": [
      "1) 4098 4098\n",
      "2) {'jack': 5098, 'guido': 4127}\n",
      "3) dict_items([('jack', 5098), ('guido', 4127)])\n",
      "4) dict_keys(['jack', 'guido'])\n"
     ]
    }
   ],
   "source": [
    "tel1 = {'jack': 4098, 'sape': 4139}\n",
    "tel2 = {1: 4098, 2: 4139}\n",
    "tel3 = dict(sape=4139, guido=4127, jack=4098) # 함수로 선언해서 사용도 가능\n",
    "\n",
    "print('1)', tel1['jack'], tel2[1]) # 키로 참조\n",
    "\n",
    "#tel4 = {['jack']:4098, ['sape']:4139}\n",
    "\n",
    "tel1['jack'] = 5098\n",
    "tel1['guido'] = 4127\n",
    "del(tel1['sape'])\n",
    "\n",
    "print('2)', tel1)\n",
    "print('3)', tel1.items()) # 어떤 자료 있는지 확인, 키 밸류 다 알려줌\n",
    "print('4)', tel1.keys())"
   ]
  },
  {
   "cell_type": "markdown",
   "metadata": {},
   "source": [
    "### 3-3. 튜플\n",
    "  - 쉼표로 구분되는 여러값으로 구성되는 시퀀스(sequence) 자료형\n",
    "  - 중괄호(`()`) 안에 쉽료로 구성요소를 분리하여 입력\n",
    "  - 튜플안 요소들은 인덱싱, 언팩킹으로 활용 및 접근 가능하나 불변 자료형이므로 슬라이싱과 개별요소의 수정은 불가\n",
    "      - 단) 개별요소가 리스트와 같이 가변형 자료일 경우 수정 가능"
   ]
  },
  {
   "cell_type": "code",
   "execution_count": 7,
   "metadata": {},
   "outputs": [
    {
     "name": "stdout",
     "output_type": "stream",
     "text": [
      "1) (12345, 54321, 'hello!')\n",
      "2) 12345\n",
      "3) ((12345, 54321, 'hello!'), (1, 2, 3, 4, 5))\n",
      "4) ([1, 0, 3], [3, 2, 1])\n"
     ]
    }
   ],
   "source": [
    "t = 12345, 54321, 'hello!' # same as t = (12345, 54321, 'hello!') 그냥 나열해도 튜플형 가능\n",
    "print('1)', t)\n",
    "print('2)', t[0])\n",
    "u = t, (1, 2, 3, 4, 5)\n",
    "print('3)', u)\n",
    "#t[0] = 8888\n",
    "v = ([1, 2, 3], [3, 2, 1]) # 튜플 안 리스트 자료 수정 가능\n",
    "v[0][1] = 0 \n",
    "print('4)', v)\n",
    "\n",
    "# tuple unpacking\n",
    "x ,y, z = t # t 원소 각각 할당됨(언패킹)"
   ]
  },
  {
   "cell_type": "markdown",
   "metadata": {},
   "source": [
    "## 4. 흐름 제어: if, for, while "
   ]
  },
  {
   "cell_type": "markdown",
   "metadata": {},
   "source": [
    "### 4-1. if\n",
    " - `if` 다음의 조건을 판단하여 참인 경우, 선택적으로 실행\n",
    " - 없거나 여러개의 elif 부가 있을 수 있고, else 는 선택적\n",
    " - `if ... elif ...` 로 switch, case 문 대체"
   ]
  },
  {
   "cell_type": "code",
   "execution_count": 8,
   "metadata": {},
   "outputs": [
    {
     "name": "stdout",
     "output_type": "stream",
     "text": [
      "Please enter an integer: 1\n",
      "Single\n"
     ]
    }
   ],
   "source": [
    "x = int(input(\"Please enter an integer: \"))\n",
    "\n",
    "if x < 0: # if 다음 불리언 값 있어야 함\n",
    "    x = 0\n",
    "    print('Negative changed to zero')\n",
    "elif x == 0:\n",
    "    print('Zero')\n",
    "elif x == 1:\n",
    "    print('Single')\n",
    "else:\n",
    "    print('More')"
   ]
  },
  {
   "cell_type": "markdown",
   "metadata": {},
   "source": [
    "#### 참고) 파이썬 Falsy values\n",
    " - python falsy values : `None, False, 0, 0.0, 0j, Decimal(0), Fraction(0, 1), [], {},(), \"\", '', range(0)`"
   ]
  },
  {
   "cell_type": "markdown",
   "metadata": {},
   "source": [
    "### 4-2. for\n",
    "  - 시퀀스 (리스트나 문자열)의 항목들을 그 시퀀스에 들어있는 순서대로 순회하기 위해 사용"
   ]
  },
  {
   "cell_type": "code",
   "execution_count": 9,
   "metadata": {},
   "outputs": [
    {
     "name": "stdout",
     "output_type": "stream",
     "text": [
      "cat 3\n",
      "window 6\n",
      "defenestrate 12\n",
      "**********\n",
      "0 cat\n",
      "1 window\n",
      "2 defenestrate\n"
     ]
    }
   ],
   "source": [
    "words = ['cat', 'window', 'defenestrate'] #문자열 튜플도 가능\n",
    "for w in words:\n",
    "    print(w, len(w))\n",
    "print('**********')\n",
    "for i, w in enumerate(words): #첫번째 인덱스, 두번째 값\n",
    "    print(i, w)"
   ]
  },
  {
   "cell_type": "markdown",
   "metadata": {},
   "source": [
    "  - 숫자들의 시퀀스로 순회 `range()`사용, `range`는 리스트인 것처럼 동작하나 리스트는 아님 \n",
    "      - ex) `range(start, end, step)`"
   ]
  },
  {
   "cell_type": "code",
   "execution_count": 10,
   "metadata": {},
   "outputs": [
    {
     "name": "stdout",
     "output_type": "stream",
     "text": [
      "0\n",
      "1\n",
      "2\n",
      "3\n",
      "4\n",
      "*****\n",
      "0\n",
      "3\n",
      "6\n",
      "9\n"
     ]
    }
   ],
   "source": [
    "for i in range(5): # range 값의 범위 만듬\n",
    "     print(i)\n",
    "print('*****')\n",
    "for i in range(0, 10, 3): # 초기값, 범위, 증분\n",
    "     print(i)"
   ]
  },
  {
   "cell_type": "markdown",
   "metadata": {},
   "source": [
    "  - 루프의 탈출: `break`, 루프의 계속: `continue`"
   ]
  },
  {
   "cell_type": "code",
   "execution_count": 11,
   "metadata": {},
   "outputs": [
    {
     "name": "stdout",
     "output_type": "stream",
     "text": [
      "current: 1\n",
      "current: 2\n",
      "current: 3\n",
      "current: 4\n"
     ]
    }
   ],
   "source": [
    "for n in range(1,10):\n",
    "    print('current:', n)\n",
    "    if n % 4 == 0:\n",
    "        break"
   ]
  },
  {
   "cell_type": "code",
   "execution_count": 12,
   "metadata": {},
   "outputs": [
    {
     "name": "stdout",
     "output_type": "stream",
     "text": [
      "Found an even number 2\n",
      "Found a number 3\n",
      "Found an even number 4\n",
      "Found a number 5\n",
      "Found an even number 6\n",
      "Found a number 7\n",
      "Found an even number 8\n",
      "Found a number 9\n"
     ]
    }
   ],
   "source": [
    "for num in range(2, 10):\n",
    "    if num % 2 == 0:\n",
    "        print(\"Found an even number\", num)\n",
    "        continue\n",
    "    print(\"Found a number\", num)"
   ]
  },
  {
   "cell_type": "markdown",
   "metadata": {},
   "source": [
    "### 4-3. while\n",
    "  - 조건이 참인 경우만 반복적으로 실행"
   ]
  },
  {
   "cell_type": "code",
   "execution_count": 13,
   "metadata": {},
   "outputs": [
    {
     "name": "stdout",
     "output_type": "stream",
     "text": [
      "0,1,1,2,3,5,8,13,21,34,55,89,144,233,377,610,987,"
     ]
    }
   ],
   "source": [
    "a, b = 0, 1\n",
    "while a < 1000:\n",
    "    print(a, end=',')\n",
    "    a, b = b, a+b"
   ]
  },
  {
   "cell_type": "markdown",
   "metadata": {},
   "source": [
    "## 5. 함수와 클래스"
   ]
  },
  {
   "cell_type": "markdown",
   "metadata": {},
   "source": [
    "## 5-1 함수\n",
    "  - `def` 키워드로 함수 정의 시작, 함수 이름과 형식 매개변수 목록이 뒤따름, 함수 바디는 들여쓰기 된 다음줄에서 시작, 반환값은 `return` 다음 값\n",
    "  - 함수에서의 모든 변수 대입들은 값을 지역 심볼 테이블에 저장, 함수안 변수 참조 순서는 지역 심볼 테이블 -> 전역 심볼 테이블 -> 내장 이름 테이블\n",
    "  - 함수 인자: 위치 인자, 기본 인자 값, 키워드 인자값\n",
    "  - 하나이상의 값 `return` 가능 ex) `return a, b` : 반환 값은 `(a,b)`의 튜플 형식 "
   ]
  },
  {
   "cell_type": "code",
   "execution_count": 14,
   "metadata": {},
   "outputs": [
    {
     "name": "stdout",
     "output_type": "stream",
     "text": [
      "4\n",
      "6\n",
      "6\n"
     ]
    }
   ],
   "source": [
    "# 위치 인자 기본 인자\n",
    "def add(a, b=2): # positional value 정의되어 있는 겨우\n",
    "    c = a + b\n",
    "    return c\n",
    "\n",
    "print(add(2))\n",
    "print(add(2,4))\n",
    "print(add(2,b=4))"
   ]
  },
  {
   "cell_type": "code",
   "execution_count": 15,
   "metadata": {},
   "outputs": [
    {
     "name": "stdout",
     "output_type": "stream",
     "text": [
      "4\n",
      "6\n"
     ]
    }
   ],
   "source": [
    "# 위치 인자, 키워드 인자(함수 호출시, 위치 인자 뒤에만 가능)\n",
    "def add(a, *, b=2): # * 들어가 있어야 키워드 인자 선언 가능\n",
    "    c = a + b\n",
    "    return c\n",
    "\n",
    "print(add(2))\n",
    "#print(add(2,4))\n",
    "print(add(2,b=4))\n",
    "#print(add(b=4,2))"
   ]
  },
  {
   "cell_type": "code",
   "execution_count": 16,
   "metadata": {},
   "outputs": [
    {
     "name": "stdout",
     "output_type": "stream",
     "text": [
      "(3, -1)\n"
     ]
    }
   ],
   "source": [
    "# 두개이상 결과 값 반환\n",
    "def add_minus(a, *, b=2):\n",
    "    r1 = a + b\n",
    "    r2 = a - b\n",
    "    return r1, r2\n",
    "\n",
    "print(add_minus(1,b=2)) # 언패킹해서 값 받을 수도 있음(튜플의 경우)"
   ]
  },
  {
   "cell_type": "markdown",
   "metadata": {},
   "source": [
    "## 5-2 클래스\n",
    "  - 데이터(상태값)와 함수(메서드)을 함께 묶어 객체의 새 형태를 정의하는데 사용 (= 객체의 틀을 만든다.)\n",
    "  - 정의된 클래스의 인스턴스를 만들어 클래스를 활용 (= 정의된 틀을 가지고 제품들을 찍어낸다.)\n",
    "  - 파생클래스를 만들수 있는 상속, 다중상속을 지원"
   ]
  },
  {
   "cell_type": "code",
   "execution_count": 17,
   "metadata": {},
   "outputs": [],
   "source": [
    "class MyClass: # 클래스명, 특정  클래스 상속 MyClass(BASECLASS)\n",
    "    \"\"\"A simple example class\"\"\"\n",
    "    data = 12345\n",
    "\n",
    "     def __init__(self, data):  # __init__ 내장함수, __init__ 써야 MyClass에 데이터 넘겨줄 수 있음\n",
    "         self.data=data\n",
    "        \n",
    "    def f1(self, string): # Myclass로 참조 가능\n",
    "        return string\n",
    "    \n",
    "    def f2(string): # self 없으면 클래스 선언시 데이터 사용할 수 없음\n",
    "        return string"
   ]
  },
  {
   "cell_type": "code",
   "execution_count": 18,
   "metadata": {},
   "outputs": [
    {
     "name": "stdout",
     "output_type": "stream",
     "text": [
      "12345\n",
      "<function MyClass.f1 at 0x7f3d48042d90>\n"
     ]
    }
   ],
   "source": [
    "print(MyClass.data)\n",
    "print(MyClass.f1)"
   ]
  },
  {
   "cell_type": "code",
   "execution_count": 19,
   "metadata": {},
   "outputs": [
    {
     "name": "stdout",
     "output_type": "stream",
     "text": [
      "12345\n",
      "hello world\n",
      "hello world\n"
     ]
    }
   ],
   "source": [
    "x = MyClass() # 클래서 호출하면 인스턴스 만들어짐\n",
    "print(x.data)\n",
    "print(x.f1('hello world'))\n",
    "print(MyClass.f1(x, 'hello world'))\n",
    "# print(x.f2('hello world'))\n",
    "# print(MyClass.f2('hello world'))"
   ]
  },
  {
   "cell_type": "code",
   "execution_count": 20,
   "metadata": {},
   "outputs": [
    {
     "name": "stdout",
     "output_type": "stream",
     "text": [
      "x's name space: {}\n",
      "MyClass's name space:\n"
     ]
    },
    {
     "data": {
      "text/plain": [
       "mappingproxy({'__module__': '__main__',\n",
       "              '__doc__': 'A simple example class',\n",
       "              'data': 12345,\n",
       "              'f1': <function __main__.MyClass.f1(self, string)>,\n",
       "              'f2': <function __main__.MyClass.f2(string)>,\n",
       "              '__dict__': <attribute '__dict__' of 'MyClass' objects>,\n",
       "              '__weakref__': <attribute '__weakref__' of 'MyClass' objects>})"
      ]
     },
     "execution_count": 20,
     "metadata": {},
     "output_type": "execute_result"
    }
   ],
   "source": [
    "print('x\\'s name space:', x.__dict__)\n",
    "print('MyClass\\'s name space:')\n",
    "MyClass.__dict__"
   ]
  },
  {
   "cell_type": "markdown",
   "metadata": {},
   "source": [
    "## 6. 모듈과 패키지\n"
   ]
  },
  {
   "cell_type": "markdown",
   "metadata": {},
   "source": [
    "## 6-1 모듈\n",
    " - 파이썬 정의와 문장을 담고 있는 파이썬 파일(`.py`)\n",
    " - 다른 파이썬 스크립트에 정의된 프로그램, 함수를 실행하기 위한 방법"
   ]
  },
  {
   "cell_type": "code",
   "execution_count": 21,
   "metadata": {},
   "outputs": [],
   "source": [
    "# %load fibo.py"
   ]
  },
  {
   "cell_type": "code",
   "execution_count": 22,
   "metadata": {},
   "outputs": [
    {
     "name": "stdout",
     "output_type": "stream",
     "text": [
      "0 1 1 2 3 5 8 13 21 34 55 89 \n",
      "fibo\n"
     ]
    }
   ],
   "source": [
    "import fibo\n",
    "fibo.fib(100)\n",
    "from fibo import fib #함수명만 불러서 쓸 때\n",
    "import fibo as f\n",
    "from fibo import * # 모든 함수 호출\n",
    "print(fibo.__name__) # module name"
   ]
  },
  {
   "cell_type": "code",
   "execution_count": 23,
   "metadata": {},
   "outputs": [
    {
     "name": "stdout",
     "output_type": "stream",
     "text": [
      "/home/ray/Projects/lecture/study1/1_python\n",
      "this file is executed as a script not a module\r\n"
     ]
    }
   ],
   "source": [
    "# fibo 모듈 스크립트로 실행하기\n",
    "%cd '/home/ray/Projects/lecture/study1/1_python' \n",
    "!python fibo.py # same as %run fibo"
   ]
  },
  {
   "cell_type": "markdown",
   "metadata": {},
   "source": [
    "## 6-2 패키지\n",
    "  - 파이썬의 모듈 이름 공간을 구조화하는 방법 \n",
    "    - ex) 모듈 이름 A.B 는 A 라는 이름의 패키지에 있는 B 라는 이름의 서브 모듈\n",
    "  - sys.path 에 있는 디렉터리들을 검색하면서 패키지 서브 디렉터리를 찾음\n",
    "  - 파이썬이 디렉터리를 패키지로 취급하게 만들기 위해서 `__init__.py` 파일이 필요\n",
    "  - 패키지의 `__init__.py` 코드가 `__all__` 이라는 이름의 목록을 제공하여 임포트 해야하는 모듈 이름들의 목록을 제공할 수 있음\n",
    "    - ex) `__all__ = [\"echo\", \"surround\", \"reverse\"]`\n"
   ]
  },
  {
   "cell_type": "markdown",
   "metadata": {},
   "source": [
    "`\n",
    "sound/                          #Top-level package\n",
    "      __init__.py                #Initialize the sound package\n",
    "      formats/                   #Subpackage for file format conversions\n",
    "              __init__.py\n",
    "              wavread.py\n",
    "      effects/                   #Subpackage for sound effects\n",
    "              __init__.py\n",
    "              echo.py\n",
    "              surround.py\n",
    "              reverse.py\n",
    "`\n"
   ]
  },
  {
   "cell_type": "code",
   "execution_count": 24,
   "metadata": {},
   "outputs": [],
   "source": [
    "#%cd '/home/ray/Projects/lecture/study1/1_python/sound'"
   ]
  },
  {
   "cell_type": "code",
   "execution_count": 25,
   "metadata": {},
   "outputs": [],
   "source": [
    "import sound.effects.echo # 폴더명 적고\n",
    "from sound.effects import echo # from 경로 각 폴더마다 __init__.py 추가 필요"
   ]
  },
  {
   "cell_type": "code",
   "execution_count": 26,
   "metadata": {},
   "outputs": [
    {
     "name": "stdout",
     "output_type": "stream",
     "text": [
      "This function got 4 arguments input=1, output=2, delay=0.7, atten=4\n",
      "This function got 4 arguments input=1, output=2, delay=0.7, atten=4\n"
     ]
    }
   ],
   "source": [
    "sound.effects.echo.echofilter(1,2)\n",
    "echo.echofilter(1,2)"
   ]
  },
  {
   "cell_type": "code",
   "execution_count": 27,
   "metadata": {},
   "outputs": [],
   "source": [
    "from sound.effects import *"
   ]
  },
  {
   "cell_type": "markdown",
   "metadata": {},
   "source": [
    "## 7. 기타"
   ]
  },
  {
   "cell_type": "markdown",
   "metadata": {},
   "source": [
    "### with 구문\n",
    " - 특별한 컨텍스트(리소스)에서 실행함을 나타나는데 사용\n",
    "     - ex) 파일 읽기 쓰기, DB 데이터 조회\n",
    " - 대표적으로 파일이나 소켓과 같은 특정한 리소스에 엑세스 하는 경우 해당 리소스를 열고, 리소스를 회수 반환\n",
    " - with 구문을 활용하면, 특정 블럭내의 동작으로 제한, 블록을 벗어나는 경우 컨텍스트(리소스)가 해제처리를 보장"
   ]
  },
  {
   "cell_type": "code",
   "execution_count": 28,
   "metadata": {},
   "outputs": [
    {
     "name": "stdout",
     "output_type": "stream",
     "text": [
      "Python\n"
     ]
    }
   ],
   "source": [
    "with open(\"x.txt\", 'w') as f: # 컨텍스트 매니저(특정 컨텍스트 안에서만 작동), 파일 객체 열고 닫기\n",
    "    f.write('Python')  # 파일 객체 받아서 쓰겠다 with 구문 벗어나면 자동 close 호출됨, 파일 객체 닫음\n",
    "with open(\"x.txt\") as f:\n",
    "    data = f.read()\n",
    "    print(data)"
   ]
  }
 ],
 "metadata": {
  "kernelspec": {
   "display_name": "Python 3",
   "language": "python",
   "name": "python3"
  },
  "language_info": {
   "codemirror_mode": {
    "name": "ipython",
    "version": 3
   },
   "file_extension": ".py",
   "mimetype": "text/x-python",
   "name": "python",
   "nbconvert_exporter": "python",
   "pygments_lexer": "ipython3",
   "version": "3.5.2"
  }
 },
 "nbformat": 4,
 "nbformat_minor": 2
}
