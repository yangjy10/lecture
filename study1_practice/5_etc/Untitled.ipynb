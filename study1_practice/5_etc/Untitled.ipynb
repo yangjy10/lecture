{
 "cells": [
  {
   "cell_type": "code",
   "execution_count": 1,
   "metadata": {
    "collapsed": false
   },
   "outputs": [
    {
     "name": "stdout",
     "output_type": "stream",
     "text": [
      "WARNING:tensorflow:From D:\\ProgramData\\Anaconda3\\lib\\site-packages\\tensorflow\\contrib\\learn\\python\\learn\\estimators\\linear.py:738: regression_head (from tensorflow.contrib.learn.python.learn.estimators.head) is deprecated and will be removed in a future version.\n",
      "Instructions for updating:\n",
      "Please switch to tf.contrib.estimator.*_head.\n",
      "WARNING:tensorflow:From D:\\ProgramData\\Anaconda3\\lib\\site-packages\\tensorflow\\contrib\\learn\\python\\learn\\estimators\\estimator.py:1179: BaseEstimator.__init__ (from tensorflow.contrib.learn.python.learn.estimators.estimator) is deprecated and will be removed in a future version.\n",
      "Instructions for updating:\n",
      "Please replace uses of any Estimator from tf.contrib.learn with an Estimator from tf.estimator.*\n",
      "WARNING:tensorflow:From D:\\ProgramData\\Anaconda3\\lib\\site-packages\\tensorflow\\contrib\\learn\\python\\learn\\estimators\\estimator.py:427: RunConfig.__init__ (from tensorflow.contrib.learn.python.learn.estimators.run_config) is deprecated and will be removed in a future version.\n",
      "Instructions for updating:\n",
      "When switching to tf.estimator.Estimator, use tf.estimator.RunConfig instead.\n",
      "INFO:tensorflow:Using default config.\n",
      "WARNING:tensorflow:Using temporary folder as model directory: C:\\Users\\AIDENT~1\\AppData\\Local\\Temp\\tmp2n92xgen\n",
      "INFO:tensorflow:Using config: {'_task_type': None, '_task_id': 0, '_cluster_spec': <tensorflow.python.training.server_lib.ClusterSpec object at 0x0000022E78951908>, '_master': '', '_num_ps_replicas': 0, '_num_worker_replicas': 0, '_environment': 'local', '_is_chief': True, '_evaluation_master': '', '_train_distribute': None, '_tf_config': gpu_options {\n",
      "  per_process_gpu_memory_fraction: 1.0\n",
      "}\n",
      ", '_tf_random_seed': None, '_save_summary_steps': 100, '_save_checkpoints_secs': 600, '_log_step_count_steps': 100, '_session_config': None, '_save_checkpoints_steps': None, '_keep_checkpoint_max': 5, '_keep_checkpoint_every_n_hours': 10000, '_model_dir': 'C:\\\\Users\\\\AIDENT~1\\\\AppData\\\\Local\\\\Temp\\\\tmp2n92xgen'}\n",
      "WARNING:tensorflow:From D:\\ProgramData\\Anaconda3\\lib\\site-packages\\tensorflow\\contrib\\learn\\python\\learn\\estimators\\head.py:678: ModelFnOps.__new__ (from tensorflow.contrib.learn.python.learn.estimators.model_fn) is deprecated and will be removed in a future version.\n",
      "Instructions for updating:\n",
      "When switching to tf.estimator.Estimator, use tf.estimator.EstimatorSpec. You can use the `estimator_spec` method to create an equivalent one.\n",
      "INFO:tensorflow:Create CheckpointSaverHook.\n",
      "INFO:tensorflow:Graph was finalized.\n",
      "INFO:tensorflow:Running local_init_op.\n",
      "INFO:tensorflow:Done running local_init_op.\n",
      "INFO:tensorflow:Saving checkpoints for 1 into C:\\Users\\AIDENT~1\\AppData\\Local\\Temp\\tmp2n92xgen\\model.ckpt.\n",
      "INFO:tensorflow:loss = 560.0, step = 0\n",
      "INFO:tensorflow:Saving checkpoints for 12 into C:\\Users\\AIDENT~1\\AppData\\Local\\Temp\\tmp2n92xgen\\model.ckpt.\n",
      "INFO:tensorflow:Loss for final step: 1.7694523.\n",
      "INFO:tensorflow:Starting evaluation at 2018-07-20-10:12:50\n",
      "INFO:tensorflow:Graph was finalized.\n",
      "INFO:tensorflow:Restoring parameters from C:\\Users\\AIDENT~1\\AppData\\Local\\Temp\\tmp2n92xgen\\model.ckpt-12\n",
      "INFO:tensorflow:Running local_init_op.\n",
      "INFO:tensorflow:Done running local_init_op.\n",
      "INFO:tensorflow:Evaluation [1/10]\n",
      "INFO:tensorflow:Evaluation [2/10]\n",
      "INFO:tensorflow:Evaluation [3/10]\n",
      "INFO:tensorflow:Evaluation [4/10]\n",
      "INFO:tensorflow:Evaluation [5/10]\n",
      "INFO:tensorflow:Evaluation [6/10]\n",
      "INFO:tensorflow:Evaluation [7/10]\n",
      "INFO:tensorflow:Evaluation [8/10]\n",
      "INFO:tensorflow:Finished evaluation at 2018-07-20-10:12:51\n",
      "INFO:tensorflow:Saving dict for global step 12: global_step = 12, loss = 3.924946\n",
      "WARNING:tensorflow:From D:\\ProgramData\\Anaconda3\\lib\\site-packages\\tensorflow\\python\\util\\deprecation.py:497: calling LinearRegressor.predict (from tensorflow.contrib.learn.python.learn.estimators.linear) with outputs=None is deprecated and will be removed after 2017-03-01.\n",
      "Instructions for updating:\n",
      "Please switch to predict_scores, or set `outputs` argument.\n",
      "INFO:tensorflow:Graph was finalized.\n",
      "INFO:tensorflow:Restoring parameters from C:\\Users\\AIDENT~1\\AppData\\Local\\Temp\\tmp2n92xgen\\model.ckpt-12\n",
      "INFO:tensorflow:Running local_init_op.\n",
      "INFO:tensorflow:Done running local_init_op.\n",
      "[40.380463, 59.595192, 49.987827, 30.7731]\n"
     ]
    }
   ],
   "source": [
    "import numpy as np\n",
    "import tensorflow as tf\n",
    "import matplotlib.pyplot as plt\n",
    "\n",
    "# 데이터\n",
    "x_data = [2, 4, 6, 8, 10, 20, 1, 2, 3, 4, 5]\n",
    "y_data = [4, 8, 12, 16, 20, 40, 2, 4, 5, 8, 10 ]\n",
    "\n",
    "column_x = tf.feature_column.numeric_column(\"x\", dtype=tf.float32)\n",
    "columns = [column_x]\n",
    "\n",
    "estimator = tf.contrib.learn.LinearRegressor(feature_columns=columns, optimizer=\"Adam\")\n",
    "\n",
    "# 학습\n",
    "input_fn_train = tf.estimator.inputs.numpy_input_fn(\n",
    "    x = {\"x\":np.array(x_data[:6], dtype=np.float32)},\n",
    "    y = np.array(y_data[:6], dtype=np.float32),\n",
    "    num_epochs=10, batch_size=5, shuffle=True\n",
    ")\n",
    "estimator.fit(input_fn = input_fn_train,steps=5000)\n",
    "\n",
    "# 검증\n",
    "input_fn_eval = tf.estimator.inputs.numpy_input_fn(\n",
    "    x = {\"x\":np.array(x_data[7:], dtype=np.float32)},\n",
    "    y = np.array(y_data[7:], dtype=np.float32),\n",
    "    num_epochs=10, batch_size=5, shuffle=True\n",
    ")\n",
    "estimator.evaluate(input_fn = input_fn_eval,steps=10)\n",
    "\n",
    "#예측\n",
    "input_fn_predict = tf.estimator.inputs.numpy_input_fn(\n",
    "    x = {\"x\":np.array([15,20,25,30], dtype=np.float32)},\n",
    "    num_epochs=1, shuffle=True\n",
    ")\n",
    "result = list(estimator.predict(input_fn = input_fn_predict))\n",
    "\n",
    "print(result)\n"
   ]
  },
  {
   "cell_type": "code",
   "execution_count": null,
   "metadata": {
    "collapsed": true
   },
   "outputs": [],
   "source": []
  }
 ],
 "metadata": {
  "kernelspec": {
   "display_name": "Python 3",
   "language": "python",
   "name": "python3"
  },
  "language_info": {
   "codemirror_mode": {
    "name": "ipython",
    "version": 3
   },
   "file_extension": ".py",
   "mimetype": "text/x-python",
   "name": "python",
   "nbconvert_exporter": "python",
   "pygments_lexer": "ipython3",
   "version": "3.6.0"
  }
 },
 "nbformat": 4,
 "nbformat_minor": 2
}
